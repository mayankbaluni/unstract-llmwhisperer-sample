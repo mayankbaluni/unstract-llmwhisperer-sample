{
 "cells": [
  {
   "cell_type": "markdown",
   "metadata": {},
   "source": [
    "# Better PDF processing with LLMs"
   ]
  },
  {
   "cell_type": "code",
   "execution_count": 1,
   "metadata": {},
   "outputs": [],
   "source": [
    "%load_ext autoreload\n",
    "%autoreload 2\n",
    "%load_ext dotenv\n",
    "%dotenv"
   ]
  },
  {
   "cell_type": "code",
   "execution_count": 2,
   "metadata": {},
   "outputs": [],
   "source": [
    "from openai import OpenAI\n",
    "\n",
    "client = OpenAI()"
   ]
  },
  {
   "cell_type": "markdown",
   "metadata": {},
   "source": [
    "## Setting Things Up"
   ]
  },
  {
   "cell_type": "markdown",
   "metadata": {},
   "source": [
    "Let's create a function that turns a document into text using LLMWhisperer:"
   ]
  },
  {
   "cell_type": "code",
   "execution_count": 3,
   "metadata": {},
   "outputs": [
    {
     "name": "stderr",
     "output_type": "stream",
     "text": [
      "2024-08-24 09:52:45,962 - unstract.llmwhisperer.client - DEBUG - logging_level set to DEBUG\n",
      "2024-08-24 09:52:45,962 - unstract.llmwhisperer.client - DEBUG - base_url set to https://llmwhisperer-api.unstract.com/v1\n",
      "2024-08-24 09:52:45,962 - unstract.llmwhisperer.client - DEBUG - api_key set to e7dbxxxxxxxxxxxxxxxxxxxxxxxxxxxx\n"
     ]
    }
   ],
   "source": [
    "import time\n",
    "import os\n",
    "from unstract.llmwhisperer.client import LLMWhispererClient\n",
    "\n",
    "LLMWHISPERER_API_KEY = os.getenv(\"LLMWHISPERER_API_KEY\")\n",
    "\n",
    "llm_whisperer_client = LLMWhispererClient(\n",
    "    base_url=\"https://llmwhisperer-api.unstract.com/v1\", api_key=LLMWHISPERER_API_KEY\n",
    ")\n",
    "\n",
    "\n",
    "def preprocess_document(file_path):\n",
    "    response = llm_whisperer_client.whisper(file_path=file_path)\n",
    "    whisper_hash = response[\"whisper_hash\"]\n",
    "\n",
    "    print(\"Status:\", response[\"status_code\"])\n",
    "    print(\"Hash:\", whisper_hash)\n",
    "\n",
    "    text = response.get(\"extracted_text\")\n",
    "\n",
    "    while True:\n",
    "        status = llm_whisperer_client.whisper_status(whisper_hash=whisper_hash)\n",
    "\n",
    "        if status[\"status\"] == \"processed\":\n",
    "            text = llm_whisperer_client.whisper_retrieve(whisper_hash=whisper_hash)[\n",
    "                \"extracted_text\"\n",
    "            ]\n",
    "            break\n",
    "        elif status[\"status\"] != \"processing\":\n",
    "            break\n",
    "\n",
    "        time.sleep(2)\n",
    "\n",
    "    return text"
   ]
  },
  {
   "cell_type": "markdown",
   "metadata": {},
   "source": [
    "Let's create a function that uses OpenAI's Assistants API to answer questions from a document:"
   ]
  },
  {
   "cell_type": "code",
   "execution_count": 4,
   "metadata": {},
   "outputs": [],
   "source": [
    "def answer_from_document(instructions, question, file_path):\n",
    "    assistant = client.beta.assistants.create(\n",
    "        name=\"Assistant\",\n",
    "        instructions=instructions,\n",
    "        model=\"gpt-4o\",\n",
    "        tools=[{\"type\": \"file_search\"}],\n",
    "    )\n",
    "\n",
    "    message_file = client.files.create(file=open(file_path, \"rb\"), purpose=\"assistants\")\n",
    "\n",
    "    thread = client.beta.threads.create(\n",
    "        messages=[\n",
    "            {\n",
    "                \"role\": \"user\",\n",
    "                \"content\": question,\n",
    "                \"attachments\": [\n",
    "                    {\"file_id\": message_file.id, \"tools\": [{\"type\": \"file_search\"}]}\n",
    "                ],\n",
    "            }\n",
    "        ]\n",
    "    )\n",
    "\n",
    "    run = client.beta.threads.runs.create_and_poll(\n",
    "        thread_id=thread.id, assistant_id=assistant.id\n",
    "    )\n",
    "\n",
    "    messages = list(\n",
    "        client.beta.threads.messages.list(thread_id=thread.id, run_id=run.id)\n",
    "    )\n",
    "    return messages[0].content[0].text.value"
   ]
  },
  {
   "cell_type": "markdown",
   "metadata": {},
   "source": [
    "Let's now create a function that uses the OpenAI's Completion API to answer a question:"
   ]
  },
  {
   "cell_type": "code",
   "execution_count": 5,
   "metadata": {},
   "outputs": [],
   "source": [
    "def answer(question):\n",
    "    completion = client.chat.completions.create(\n",
    "        model=\"gpt-4o\", messages=[{\"role\": \"user\", \"content\": question}], stream=False\n",
    "    )\n",
    "\n",
    "    return completion.choices[0].message.content"
   ]
  },
  {
   "cell_type": "markdown",
   "metadata": {},
   "source": [
    "## GPT-4o + Bill of Sale PDF"
   ]
  },
  {
   "cell_type": "code",
   "execution_count": 12,
   "metadata": {},
   "outputs": [
    {
     "name": "stdout",
     "output_type": "stream",
     "text": [
      "A total of 125 bats were ordered【4:0†bill-of-sale.pdf】.\n"
     ]
    }
   ],
   "source": [
    "response = answer_from_document(\n",
    "    instructions=\"You are a sales assistant. Answer questions about the supplied bill of sale.\",\n",
    "    question=\"How many bats where ordered?\",\n",
    "    file_path=\"bill-of-sale.pdf\",\n",
    ")\n",
    "print(response)"
   ]
  },
  {
   "cell_type": "markdown",
   "metadata": {},
   "source": [
    "## GPT-4o + Extracted Text From The Bill of Sale"
   ]
  },
  {
   "cell_type": "code",
   "execution_count": 13,
   "metadata": {},
   "outputs": [
    {
     "name": "stderr",
     "output_type": "stream",
     "text": [
      "2024-08-24 10:06:46,808 - unstract.llmwhisperer.client - DEBUG - whisper called\n",
      "2024-08-24 10:06:46,808 - unstract.llmwhisperer.client - DEBUG - api_url: https://llmwhisperer-api.unstract.com/v1/whisper\n",
      "2024-08-24 10:06:46,808 - unstract.llmwhisperer.client - DEBUG - params: {'url': '', 'processing_mode': 'ocr', 'output_mode': 'line-printer', 'page_seperator': '<<<', 'force_text_processing': False, 'pages_to_extract': '', 'timeout': 200, 'store_metadata_for_highlighting': False, 'median_filter_size': 0, 'gaussian_blur_radius': 0, 'ocr_provider': 'advanced', 'line_splitter_tolerance': 0.4, 'horizontal_stretch_factor': 1.0}\n",
      "2024-08-24 10:06:53,012 - unstract.llmwhisperer.client - DEBUG - whisper_status called\n",
      "2024-08-24 10:06:53,012 - unstract.llmwhisperer.client - DEBUG - url: https://llmwhisperer-api.unstract.com/v1/whisper-status\n"
     ]
    },
    {
     "name": "stdout",
     "output_type": "stream",
     "text": [
      "Status: 200\n",
      "Hash: c96b3ffe|d5a80b735b076cfa184e1c3b0fb86897\n",
      "\n",
      "\n",
      "\n",
      "       Al, Spalding              Bros.        SPALDING           PLEASE REMIT TO SPALDING SALES CORP. \n",
      "        SION OF SPALDING SALES CORPORATION     MARK \n",
      "\n",
      "\n",
      "                                                                         #1 \n",
      "                                                             STORE NO.           FOLIO C \n",
      "\n",
      "\n",
      "   FAMOUS FOR ATHLETIC EQUIPMENT \n",
      "                                                                           INVOICE NO. S 2812 \n",
      "\n",
      "\n",
      "                                                                           CUSTOMER'S \n",
      " Sold    To           DATE      6/1/39                Ship To              ORDER NO. \n",
      "\n",
      "\n",
      "            BKLYN EAGLES B B CLUB                                 DELD TO DIRK LUNDY \n",
      "            EMANLEY - \n",
      " ADDRESS                                            ADDRESS \n",
      "            101 MONTGOMERY STREET \n",
      " TOWN       NEWARK, N.J.      STATE                  TOWN                        STATE \n",
      "  TERMS: \n",
      " 2% CASH TO DAYS-NET 30 DAYS-                       VIA \n",
      "\n",
      "\n",
      "         DEALER INST. GOLF PRO.      ORDER TAKEN BY             SALESMAN'S NAME              NO, \n",
      "  CLASS \n",
      "    OF \n",
      "   BALE              A             GOODWIN                TAGUER                             106 \n",
      "\n",
      "\n",
      "     ITEM                                                 QUANTITY \n",
      " 86 NO.                  DESCRIPTION OF ARTICLE        ORDERED SHIPPED UNIT      PRICE      AMOUNT \n",
      "\n",
      "\n",
      "125           BATS                                       9       9     EA         1 75      15 75 \n",
      " - \n",
      "120           BATS                                        1      1      EA                    1 75 \n",
      " - \n",
      "200           BATS                                       6       6      EA        1 00       6 00 \n",
      "\n",
      "\n",
      "                                                                                  1 40 \n",
      "1 30          BATS                                        2      2      EA                    2 80 \n",
      "                                                                                            26 30 \n",
      "                                                                                             150 \n",
      " - \n",
      "                                                                                                80- \n",
      "\n",
      "\n",
      "- \n",
      "\n",
      "\n",
      "                                             SEP / / 1933 \n",
      "\n",
      "\n",
      "   Form F 21 1-39-M \n",
      "           NO RETURN OF MERCHANDISE FROM THIS INVOICE WILL BE ACCEPTED UNLESS YOU HAVE OUR WRITTEN PERMISSION. \n",
      "<<<\n",
      "\f\n",
      "\n"
     ]
    }
   ],
   "source": [
    "text = preprocess_document(\"bill-of-sale.pdf\")\n",
    "print(text)"
   ]
  },
  {
   "cell_type": "code",
   "execution_count": 14,
   "metadata": {},
   "outputs": [
    {
     "name": "stdout",
     "output_type": "stream",
     "text": [
      "The bill of sale indicates that the following quantities of bats were ordered:\n",
      "\n",
      "- Item 125: 9 bats\n",
      "- Item 120: 1 bat\n",
      "- Item 200: 6 bats\n",
      "- Item 130: 2 bats\n",
      "\n",
      "Adding these quantities:\n",
      "\n",
      "9 (Item 125) + 1 (Item 120) + 6 (Item 200) + 2 (Item 130) = 18 bats\n",
      "\n",
      "Therefore, 18 bats were ordered.\n"
     ]
    }
   ],
   "source": [
    "prompt = \"\"\"\n",
    "Look at the following bill of sale and answer the following question:\n",
    "\n",
    "Question: How many bats where ordered?\n",
    "\n",
    "Bill of sale:\n",
    "\"\"\"\n",
    "\n",
    "response = answer(prompt + text)\n",
    "print(response)"
   ]
  },
  {
   "cell_type": "markdown",
   "metadata": {},
   "source": [
    "## GPT-4o + Loan Application PDF"
   ]
  },
  {
   "cell_type": "code",
   "execution_count": 9,
   "metadata": {},
   "outputs": [
    {
     "name": "stdout",
     "output_type": "stream",
     "text": [
      "I wasn't able to locate the applicant’s full address using the search function. Please provide the exact section or type of document where this information may be found, or alternatively, I can attempt a detailed manual review.\n"
     ]
    }
   ],
   "source": [
    "response = answer_from_document(\n",
    "    instructions=\"You are a loan application assistant. Answer questions about the supplied loan application.\",\n",
    "    question=\"What's the full address of the applicant?\",\n",
    "    file_path=\"loan-application.pdf\",\n",
    ")\n",
    "print(response)"
   ]
  },
  {
   "cell_type": "markdown",
   "metadata": {},
   "source": [
    "## GPT-4o + Extracted Text From The Loan Application"
   ]
  },
  {
   "cell_type": "code",
   "execution_count": 10,
   "metadata": {},
   "outputs": [
    {
     "name": "stderr",
     "output_type": "stream",
     "text": [
      "2024-08-24 09:53:34,570 - unstract.llmwhisperer.client - DEBUG - whisper called\n",
      "2024-08-24 09:53:34,571 - unstract.llmwhisperer.client - DEBUG - api_url: https://llmwhisperer-api.unstract.com/v1/whisper\n",
      "2024-08-24 09:53:34,571 - unstract.llmwhisperer.client - DEBUG - params: {'url': '', 'processing_mode': 'ocr', 'output_mode': 'line-printer', 'page_seperator': '<<<', 'force_text_processing': False, 'pages_to_extract': '', 'timeout': 200, 'store_metadata_for_highlighting': False, 'median_filter_size': 0, 'gaussian_blur_radius': 0, 'ocr_provider': 'advanced', 'line_splitter_tolerance': 0.4, 'horizontal_stretch_factor': 1.0}\n",
      "2024-08-24 09:53:50,390 - unstract.llmwhisperer.client - DEBUG - whisper_status called\n",
      "2024-08-24 09:53:50,391 - unstract.llmwhisperer.client - DEBUG - url: https://llmwhisperer-api.unstract.com/v1/whisper-status\n"
     ]
    },
    {
     "name": "stdout",
     "output_type": "stream",
     "text": [
      "Status: 200\n",
      "Hash: 4fea52d2|a50523a76fbcf5cb5d802aadf86b4574\n",
      "\n",
      "\n",
      "\n",
      " To be completed by the Lender: \n",
      " Lender Loan No./Universal Loan Identifier                                                         Agency Case No. \n",
      "\n",
      "\n",
      "Uniform Residential Loan Application \n",
      "Verify and complete the information on this application. If you are applying for this loan with others, each additional Borrower must provide \n",
      "information as directed by your Lender. \n",
      "\n",
      "\n",
      "Section 1: Borrower Information. This section asks about your personal information and your income from \n",
      "employment and other sources, such as retirement, that you want considered to qualify for this loan. \n",
      "\n",
      "\n",
      " 1a. Personal Information \n",
      "Name (First, Middle, Last, Suffix)                                             Social Security Number 175-678-910 \n",
      "  IMA          CARDHOLDER                                                      (or Individual Taxpayer Identification Number) \n",
      "Alternate Names - List any names by which you are known or any names           Date of Birth             Citizenship \n",
      "under which credit was previously received (First, Middle, Last, Suffix)       (mm/dd/yyyy)              [X] U.S. Citizen \n",
      "                                                                                08/31 / 1977             [ ] Permanent Resident Alien \n",
      "                                                                                                        [ ] Non-Permanent Resident Alien \n",
      "Type of Credit                                                                 List Name(s) of Other Borrower(s) Applying for this Loan \n",
      "[X] I am applying for individual credit.                                       (First, Middle, Last, Suffix) - Use a separator between names \n",
      "[ ] I am applying for joint credit. Total Number of Borrowers: \n",
      "   Each Borrower intends to apply for joint credit. Your initials: \n",
      "\n",
      "\n",
      "Marital Status              Dependents (not listed by another Borrower)        Contact Information \n",
      "[X] Married                 Number                                             Home Phone (         )      - \n",
      "[ ] Separated               Ages                                               Cell Phone     (408) 123-4567 \n",
      "[ ] Unmarried                                                                  Work Phone     1     1                     Ext. \n",
      "   (Single, Divorced, Widowed, Civil Union, Domestic Partnership, Registered \n",
      "                                                                               Email ima1977@gmail.com \n",
      "   Reciprocal Beneficiary Relationship) \n",
      "Current Address \n",
      "Street 1024, SULLIVAN                   STREET                                                                         Unit # \n",
      "City    LOS       ANGELES                                                           State CA      ZIP 90210          Country USA \n",
      "How Long at Current Address? 3 Years 5 Months Housing [ ] No primary housing expense [ ] Own [X] Rent ($ 1,300                      /month) \n",
      "\n",
      "\n",
      "If at Current Address for LESS than 2 years, list Former Address      [X] Does not apply \n",
      "Street                                                                                                                 Unit # \n",
      "City                                                                                State          ZIP               Country \n",
      "How Long at Former Address?       Years      Months Housing [ ] No primary housing expense [ ] Own [ ] Rent ($                      /month) \n",
      "\n",
      "\n",
      "Mailing Address - if different from Current Address [X] Does not apply \n",
      "Street                                                                                                                 Unit # \n",
      "City                                                                                State          ZIP               Country \n",
      "\n",
      "\n",
      " 1b. Current Employment/Self-Employment and Income               [ ] Does not apply \n",
      "                                                                                                            Gross Monthly Income \n",
      "Employer or Business Name       CAFFIENATED                              Phone (408) 109-8765 \n",
      "                                                                                                            Base        $ 8000       /month \n",
      "Street   2048, MAIN            STREET                                                Unit # \n",
      "                                                                                                            Overtime    $            /month \n",
      "City   LOS      ANGELES                           State CA      ZIP 90210          Country USA \n",
      "                                                                                                            Bonus       $            /month \n",
      "Position or Title CEO                                          Check if this statement applies:             Commission $        0.00 /month \n",
      "Start Date 02                                                   [ ] I am employed by a family member, \n",
      "                 / 04/2009 \n",
      "                                                                  property seller, real estate agent, or other Military \n",
      "How long in this line of work? 15 Years 5    Months               party to the transaction.                 Entitlements $           /month \n",
      "                                                                                                            Other       $            /month \n",
      "[X] Check if you are the Business [ ] I have an ownership share of less than 25%. Monthly Income (or Loss) \n",
      "                                                                                                            TOTAL $ 8000             /month \n",
      "   Owner or Self-Employed         [X] I have an ownership share of 25% or more. $ 8000 \n",
      "\n",
      "\n",
      "Uniform Residential Loan Application \n",
      "Freddie Mac Form 65 . Fannie Mae Form 1003 \n",
      "Effective 1/2021 \n",
      "<<<\n",
      "\f\n",
      "\n",
      "\n",
      "Californiausa           DRIVER LICENSE \n",
      "\n",
      "\n",
      "                                    CLASS C \n",
      "                 DL /1234568 \n",
      "                 EXP 08/31/2014     END NONE \n",
      "                 LNCARDHOLDER \n",
      "                 FNIMA \n",
      "                 2570 24TH STREET \n",
      "                 ANYTOWN. CA 95818 \n",
      "                 DOB 08/31/1977 \n",
      "                 RSTR NONE                 08311977 \n",
      "\n",
      "\n",
      "                     VETERAN \n",
      "                       SEX F   HAIR BRN   EYES BRN \n",
      "Ima                    HGT 5'-05 WGT 125 1b \n",
      "                                            08/31/2009 \n",
      "<<<\n",
      "\f\n",
      "\n"
     ]
    }
   ],
   "source": [
    "text = preprocess_document(\"loan-application.pdf\")\n",
    "print(text)"
   ]
  },
  {
   "cell_type": "code",
   "execution_count": 11,
   "metadata": {},
   "outputs": [
    {
     "name": "stdout",
     "output_type": "stream",
     "text": [
      "The full address of the applicant, as listed in the loan application, is:\n",
      "\n",
      "1024 Sullivan Street, Los Angeles, CA 90210, USA\n"
     ]
    }
   ],
   "source": [
    "prompt = \"\"\"\n",
    "Look at the following loan application and answer the following question:\n",
    "\n",
    "Question: What's the full address of the applicant?\n",
    "\n",
    "Loan application:\n",
    "\"\"\"\n",
    "\n",
    "response = answer(prompt + text)\n",
    "print(response)"
   ]
  },
  {
   "cell_type": "code",
   "execution_count": null,
   "metadata": {},
   "outputs": [],
   "source": []
  }
 ],
 "metadata": {
  "kernelspec": {
   "display_name": ".venv",
   "language": "python",
   "name": "python3"
  },
  "language_info": {
   "codemirror_mode": {
    "name": "ipython",
    "version": 3
   },
   "file_extension": ".py",
   "mimetype": "text/x-python",
   "name": "python",
   "nbconvert_exporter": "python",
   "pygments_lexer": "ipython3",
   "version": "3.10.11"
  }
 },
 "nbformat": 4,
 "nbformat_minor": 2
}
