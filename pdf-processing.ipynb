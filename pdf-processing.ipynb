{
 "cells": [
  {
   "cell_type": "markdown",
   "metadata": {},
   "source": [
    "# Better PDF processing with LLMs"
   ]
  },
  {
   "cell_type": "code",
   "execution_count": 24,
   "metadata": {},
   "outputs": [
    {
     "name": "stdout",
     "output_type": "stream",
     "text": [
      "The autoreload extension is already loaded. To reload it, use:\n",
      "  %reload_ext autoreload\n",
      "The dotenv extension is already loaded. To reload it, use:\n",
      "  %reload_ext dotenv\n"
     ]
    }
   ],
   "source": [
    "%load_ext autoreload\n",
    "%autoreload 2\n",
    "%load_ext dotenv\n",
    "%dotenv"
   ]
  },
  {
   "cell_type": "markdown",
   "metadata": {},
   "source": [
    "## Initializing LLMWhisperer"
   ]
  },
  {
   "cell_type": "code",
   "execution_count": 4,
   "metadata": {},
   "outputs": [],
   "source": [
    "import os\n",
    "\n",
    "LLMWHISPERER_API_KEY = os.getenv(\"LLMWHISPERER_API_KEY\")"
   ]
  },
  {
   "cell_type": "code",
   "execution_count": 5,
   "metadata": {},
   "outputs": [
    {
     "name": "stderr",
     "output_type": "stream",
     "text": [
      "2024-08-22 08:34:25,563 - unstract.llmwhisperer.client - DEBUG - logging_level set to DEBUG\n",
      "2024-08-22 08:34:25,564 - unstract.llmwhisperer.client - DEBUG - base_url set to https://llmwhisperer-api.unstract.com/v1\n",
      "2024-08-22 08:34:25,564 - unstract.llmwhisperer.client - DEBUG - api_key set to e7dbxxxxxxxxxxxxxxxxxxxxxxxxxxxx\n"
     ]
    }
   ],
   "source": [
    "from unstract.llmwhisperer.client import LLMWhispererClient\n",
    "\n",
    "llm_whisperer_client = LLMWhispererClient(\n",
    "    base_url=\"https://llmwhisperer-api.unstract.com/v1\", api_key=LLMWHISPERER_API_KEY\n",
    ")"
   ]
  },
  {
   "cell_type": "markdown",
   "metadata": {},
   "source": [
    "## Process the document"
   ]
  },
  {
   "cell_type": "code",
   "execution_count": 20,
   "metadata": {},
   "outputs": [
    {
     "name": "stderr",
     "output_type": "stream",
     "text": [
      "2024-08-22 08:59:36,476 - unstract.llmwhisperer.client - DEBUG - whisper called\n",
      "2024-08-22 08:59:36,476 - unstract.llmwhisperer.client - DEBUG - api_url: https://llmwhisperer-api.unstract.com/v1/whisper\n",
      "2024-08-22 08:59:36,477 - unstract.llmwhisperer.client - DEBUG - params: {'url': '', 'processing_mode': 'ocr', 'output_mode': 'line-printer', 'page_seperator': '<<<', 'force_text_processing': False, 'pages_to_extract': '', 'timeout': 200, 'store_metadata_for_highlighting': False, 'median_filter_size': 0, 'gaussian_blur_radius': 0, 'ocr_provider': 'advanced', 'line_splitter_tolerance': 0.4, 'horizontal_stretch_factor': 1.0}\n"
     ]
    },
    {
     "name": "stdout",
     "output_type": "stream",
     "text": [
      "Status: 200\n",
      "Hash: bc3d5fbc|d5a80b735b076cfa184e1c3b0fb86897\n"
     ]
    }
   ],
   "source": [
    "response = llm_whisperer_client.whisper(file_path=\"billofsale.pdf\")\n",
    "whisper_hash = response[\"whisper_hash\"]\n",
    "\n",
    "print(\"Status:\", response[\"status_code\"])\n",
    "print(\"Hash:\", whisper_hash)"
   ]
  },
  {
   "cell_type": "code",
   "execution_count": 21,
   "metadata": {},
   "outputs": [
    {
     "name": "stderr",
     "output_type": "stream",
     "text": [
      "2024-08-22 08:59:44,352 - unstract.llmwhisperer.client - DEBUG - whisper_status called\n",
      "2024-08-22 08:59:44,352 - unstract.llmwhisperer.client - DEBUG - url: https://llmwhisperer-api.unstract.com/v1/whisper-status\n"
     ]
    }
   ],
   "source": [
    "import time\n",
    "\n",
    "text = response.get(\"extracted_text\")\n",
    "\n",
    "while True:\n",
    "    status = llm_whisperer_client.whisper_status(whisper_hash=whisper_hash)\n",
    "\n",
    "    if status[\"status\"] == \"processed\":\n",
    "        text = llm_whisperer_client.whisper_retrieve(whisper_hash=whisper_hash)[\n",
    "            \"extracted_text\"\n",
    "        ]\n",
    "        break\n",
    "    elif status[\"status\"] != \"processing\":\n",
    "        break\n",
    "\n",
    "    time.sleep(2)"
   ]
  },
  {
   "cell_type": "code",
   "execution_count": 22,
   "metadata": {},
   "outputs": [
    {
     "name": "stdout",
     "output_type": "stream",
     "text": [
      "\n",
      "\n",
      "\n",
      "       Al, Spalding              Bros.        SPALDING           PLEASE REMIT TO SPALDING SALES CORP. \n",
      "        SION OF SPALDING SALES CORPORATION     MARK \n",
      "\n",
      "\n",
      "                                                                         #1 \n",
      "                                                             STORE NO.           FOLIO C \n",
      "\n",
      "\n",
      "   FAMOUS FOR ATHLETIC EQUIPMENT \n",
      "                                                                           INVOICE NO. S 2812 \n",
      "\n",
      "\n",
      "                                                                           CUSTOMER'S \n",
      " Sold    To           DATE      6/1/39                Ship To              ORDER NO. \n",
      "\n",
      "\n",
      "            BKLYN EAGLES B B CLUB                                 DELD TO DIRK LUNDY \n",
      "            EMANLEY - \n",
      " ADDRESS                                            ADDRESS \n",
      "            101 MONTGOMERY STREET \n",
      " TOWN       NEWARK, N.J.      STATE                  TOWN                        STATE \n",
      "  TERMS: \n",
      " 2% CASH TO DAYS-NET 30 DAYS-                       VIA \n",
      "\n",
      "\n",
      "         DEALER INST. GOLF PRO.      ORDER TAKEN BY             SALESMAN'S NAME              NO, \n",
      "  CLASS \n",
      "    OF \n",
      "   BALE              A             GOODWIN                TAGUER                             106 \n",
      "\n",
      "\n",
      "     ITEM                                                 QUANTITY \n",
      " 86 NO.                  DESCRIPTION OF ARTICLE        ORDERED SHIPPED UNIT      PRICE      AMOUNT \n",
      "\n",
      "\n",
      "125           BATS                                       9       9     EA         1 75      15 75 \n",
      " - \n",
      "120           BATS                                        1      1      EA                    1 75 \n",
      " - \n",
      "200           BATS                                       6       6      EA        1 00       6 00 \n",
      "\n",
      "\n",
      "                                                                                  1 40 \n",
      "1 30          BATS                                        2      2      EA                    2 80 \n",
      "                                                                                            26 30 \n",
      "                                                                                             150 \n",
      " - \n",
      "                                                                                                80- \n",
      "\n",
      "\n",
      "- \n",
      "\n",
      "\n",
      "                                             SEP / / 1933 \n",
      "\n",
      "\n",
      "   Form F 21 1-39-M \n",
      "           NO RETURN OF MERCHANDISE FROM THIS INVOICE WILL BE ACCEPTED UNLESS YOU HAVE OUR WRITTEN PERMISSION. \n",
      "<<<\n",
      "\f\n",
      "\n"
     ]
    }
   ],
   "source": [
    "print(text)"
   ]
  },
  {
   "cell_type": "markdown",
   "metadata": {},
   "source": [
    "## Initialize OpenAI's Client"
   ]
  },
  {
   "cell_type": "code",
   "execution_count": 27,
   "metadata": {},
   "outputs": [],
   "source": [
    "from openai import OpenAI\n",
    "\n",
    "client = OpenAI()"
   ]
  },
  {
   "cell_type": "markdown",
   "metadata": {},
   "source": [
    "## Processing the PDF Directly"
   ]
  },
  {
   "cell_type": "code",
   "execution_count": 28,
   "metadata": {},
   "outputs": [
    {
     "name": "stdout",
     "output_type": "stream",
     "text": [
      "The bill of sale indicates that a total of 125 bats were ordered【4:0†billofsale.pdf】.\n"
     ]
    }
   ],
   "source": [
    "instructions = (\n",
    "    \"You are a sales assistant. Answer questions about the supplied bill of sale.\"\n",
    ")\n",
    "question = \"How many bats where ordered?\"\n",
    "\n",
    "assistant = client.beta.assistants.create(\n",
    "    name=\"Sales assistant\",\n",
    "    instructions=instructions,\n",
    "    model=\"gpt-4o\",\n",
    "    tools=[{\"type\": \"file_search\"}],\n",
    ")\n",
    "\n",
    "message_file = client.files.create(\n",
    "    file=open(\"billofsale.pdf\", \"rb\"), purpose=\"assistants\"\n",
    ")\n",
    "\n",
    "thread = client.beta.threads.create(\n",
    "    messages=[\n",
    "        {\n",
    "            \"role\": \"user\",\n",
    "            \"content\": question,\n",
    "            \"attachments\": [\n",
    "                {\"file_id\": message_file.id, \"tools\": [{\"type\": \"file_search\"}]}\n",
    "            ],\n",
    "        }\n",
    "    ]\n",
    ")\n",
    "\n",
    "run = client.beta.threads.runs.create_and_poll(\n",
    "    thread_id=thread.id, assistant_id=assistant.id\n",
    ")\n",
    "messages = list(client.beta.threads.messages.list(thread_id=thread.id, run_id=run.id))\n",
    "print(messages[0].content[0].text.value)"
   ]
  },
  {
   "cell_type": "markdown",
   "metadata": {},
   "source": [
    "## Processing the Extracted Text"
   ]
  },
  {
   "cell_type": "code",
   "execution_count": 26,
   "metadata": {},
   "outputs": [
    {
     "name": "stdout",
     "output_type": "stream",
     "text": [
      "The total number of bats ordered, as per the bill of sale, is calculated by summing up the quantities for each line item. Here are the quantities of bats ordered:\n",
      "\n",
      "- 125 Bats: 9 ordered\n",
      "- 120 Bats: 1 ordered\n",
      "- 200 Bats: 6 ordered\n",
      "- 130 Bats: 2 ordered\n",
      "\n",
      "Adding these quantities together, we get:\n",
      "\n",
      "9 + 1 + 6 + 2 = 18\n",
      "\n",
      "Therefore, 18 bats were ordered.\n"
     ]
    }
   ],
   "source": [
    "prompt = \"\"\"\n",
    "Look at the following bill of sale and answer the following question:\n",
    "\n",
    "Question: How many bats where ordered?\n",
    "\n",
    "Bill of sale:\n",
    "\"\"\"\n",
    "\n",
    "completion = client.chat.completions.create(\n",
    "    model=\"gpt-4o\", messages=[{\"role\": \"user\", \"content\": prompt + text}], stream=False\n",
    ")\n",
    "\n",
    "print(completion.choices[0].message.content)"
   ]
  },
  {
   "cell_type": "code",
   "execution_count": null,
   "metadata": {},
   "outputs": [],
   "source": []
  }
 ],
 "metadata": {
  "kernelspec": {
   "display_name": ".venv",
   "language": "python",
   "name": "python3"
  },
  "language_info": {
   "codemirror_mode": {
    "name": "ipython",
    "version": 3
   },
   "file_extension": ".py",
   "mimetype": "text/x-python",
   "name": "python",
   "nbconvert_exporter": "python",
   "pygments_lexer": "ipython3",
   "version": "3.10.11"
  }
 },
 "nbformat": 4,
 "nbformat_minor": 2
}
